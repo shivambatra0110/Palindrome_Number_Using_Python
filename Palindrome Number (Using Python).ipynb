{
 "cells": [
  {
   "cell_type": "markdown",
   "id": "f336df9d",
   "metadata": {},
   "source": [
    "##  To Find the Number is Palindrome or Not\n",
    "A palindromic Number is a Number that remains the same when its digits are reversed.\n",
    "Like if we reverse \"16461\" is 16461  "
   ]
  },
  {
   "cell_type": "code",
   "execution_count": 1,
   "id": "3f095e74",
   "metadata": {},
   "outputs": [
    {
     "name": "stdout",
     "output_type": "stream",
     "text": [
      "Enter number:161\n",
      "The Number is a Palindrome.\n"
     ]
    }
   ],
   "source": [
    "# To take input from user\n",
    "Number=int(input(\"Enter number:\"))\n",
    "#Declaring a variable equal to number so we can make a copy of our Number\n",
    "Num= Number\n",
    "#Declaring a variable which is storing our Reversed Number\n",
    "Reverse=0\n",
    "#using while loop\n",
    "#condition Number should be greater than 0\n",
    "while(Number>0):\n",
    "    # storing every single digit in Digit\n",
    "    Digit=Number%10\n",
    "    # adding every single digit in Reversed Number\n",
    "    Reverse=Reverse*10+Digit\n",
    "    #Removing last digit from the Number\n",
    "    Number=Number//10\n",
    "#If copy of our Orignal number is eqals to Reversed Number Then it is a Palindrome\n",
    "if(Num==Reverse):\n",
    "    print(\"The Number is a Palindrome.\")\n",
    "#else it is not a Palindrome \n",
    "else:\n",
    "    print(\"The Number isn't a Palindrome.\")"
   ]
  }
 ],
 "metadata": {
  "kernelspec": {
   "display_name": "Python 3 (ipykernel)",
   "language": "python",
   "name": "python3"
  },
  "language_info": {
   "codemirror_mode": {
    "name": "ipython",
    "version": 3
   },
   "file_extension": ".py",
   "mimetype": "text/x-python",
   "name": "python",
   "nbconvert_exporter": "python",
   "pygments_lexer": "ipython3",
   "version": "3.9.12"
  }
 },
 "nbformat": 4,
 "nbformat_minor": 5
}
